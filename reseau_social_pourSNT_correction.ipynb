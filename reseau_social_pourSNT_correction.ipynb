{
 "cells": [
  {
   "cell_type": "markdown",
   "id": "moved-microphone",
   "metadata": {},
   "source": [
    "# Test jupyter SNT Réseau social\n",
    "\n",
    "## Sous menu\n",
    "\n",
    "#### Sous menu 2\n",
    "\n"
   ]
  },
  {
   "cell_type": "code",
   "execution_count": 10,
   "id": "congressional-suicide",
   "metadata": {},
   "outputs": [],
   "source": [
    "# application qui permet de tracer un graphe pour simuler un réseau\n",
    "# on ajoute des sommets\n",
    "# on dessine les arètes entre les sommets voulus\n",
    "\n",
    "#import networkx as nx # import de la bibliothèque networkx\n",
    "from networkx import nx, diameter, radius, center\n"
   ]
  },
  {
   "cell_type": "markdown",
   "id": "executive-drama",
   "metadata": {},
   "source": [
    "Je crée un graphe"
   ]
  },
  {
   "cell_type": "code",
   "execution_count": 11,
   "id": "therapeutic-interpretation",
   "metadata": {},
   "outputs": [],
   "source": [
    "\n",
    "reseau_social=nx.Graph()# création du graphe reseau_social\n"
   ]
  },
  {
   "cell_type": "markdown",
   "id": "bored-decline",
   "metadata": {},
   "source": [
    "J'ajoute des noeuds"
   ]
  },
  {
   "cell_type": "code",
   "execution_count": 12,
   "id": "european-marshall",
   "metadata": {},
   "outputs": [],
   "source": [
    "\n",
    "reseau_social.add_node('arthur')\n",
    "reseau_social.add_node('boris')\n",
    "reseau_social.add_node('carla')\n",
    "reseau_social.add_node('dorine')\n",
    "reseau_social.add_node('enzo')\n",
    "reseau_social.add_node('fred')\n"
   ]
  },
  {
   "cell_type": "markdown",
   "id": "bored-johns",
   "metadata": {},
   "source": [
    "Puis les arêtes !!"
   ]
  },
  {
   "cell_type": "code",
   "execution_count": 13,
   "id": "respected-spanking",
   "metadata": {},
   "outputs": [],
   "source": [
    "\n",
    "reseau_social.add_edge('arthur','boris')\n",
    "reseau_social.add_edge('arthur','enzo')\n",
    "reseau_social.add_edge('boris','carla')\n",
    "reseau_social.add_edge('fred','carla')\n",
    "#reseau_social.add_edge('dorine','carla')\n",
    "reseau_social.add_edge('dorine','fred')\n",
    "reseau_social.add_edge('dorine','enzo')\n",
    "reseau_social.add_edge('enzo','fred')\n"
   ]
  },
  {
   "cell_type": "markdown",
   "id": "gorgeous-hobby",
   "metadata": {},
   "source": [
    "Puis je cré le graphe"
   ]
  },
  {
   "cell_type": "code",
   "execution_count": 14,
   "id": "ideal-charles",
   "metadata": {},
   "outputs": [
    {
     "data": {
      "image/png": "[encoded data removed]",
      "text/plain": [
       "<Figure size 432x288 with 1 Axes>"
      ]
     },
     "metadata": {},
     "output_type": "display_data"
    }
   ],
   "source": [
    "\n",
    "nx.draw(reseau_social, with_labels=True)"
   ]
  },
  {
   "cell_type": "markdown",
   "id": "maritime-control",
   "metadata": {},
   "source": [
    "J'en profite pour afficher quelques infos utiles "
   ]
  },
  {
   "cell_type": "code",
   "execution_count": 9,
   "id": "tested-johnson",
   "metadata": {},
   "outputs": [
    {
     "name": "stdout",
     "output_type": "stream",
     "text": [
      "nb de sommets= 6\n",
      "diametre= 3\n",
      "rayon= 2\n",
      "centre= ['arthur', 'carla', 'enzo', 'fred']\n"
     ]
    }
   ],
   "source": [
    "\n",
    "print('nb de sommets=', reseau_social.number_of_nodes())\n",
    "print('diametre=', diameter(reseau_social))\n",
    "print('rayon=',radius(reseau_social))\n",
    "print('centre=',center(reseau_social))\n"
   ]
  },
  {
   "cell_type": "code",
   "execution_count": null,
   "id": "orange-minneapolis",
   "metadata": {},
   "outputs": [],
   "source": []
  }
 ],
 "metadata": {
  "kernelspec": {
   "display_name": "Python 3",
   "language": "python",
   "name": "python3"
  },
  "language_info": {
   "codemirror_mode": {
    "name": "ipython",
    "version": 3
   },
   "file_extension": ".py",
   "mimetype": "text/x-python",
   "name": "python",
   "nbconvert_exporter": "python",
   "pygments_lexer": "ipython3",
   "version": "3.9.2"
  }
 },
 "nbformat": 4,
 "nbformat_minor": 5
}
